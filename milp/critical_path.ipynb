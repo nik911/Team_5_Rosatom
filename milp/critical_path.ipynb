{
 "cells": [
  {
   "cell_type": "code",
   "execution_count": 1,
   "id": "initial_id",
   "metadata": {
    "collapsed": true,
    "ExecuteTime": {
     "end_time": "2023-09-09T09:49:03.336152Z",
     "start_time": "2023-09-09T09:49:03.280026Z"
    }
   },
   "outputs": [
    {
     "name": "stdout",
     "output_type": "stream",
     "text": [
      "Критический путь: ['A', 'B', 'D']\n"
     ]
    }
   ],
   "source": [
    "import networkx as nx\n",
    "\n",
    "# Создание пустого графа\n",
    "G = nx.DiGraph()\n",
    "\n",
    "# Добавление задач и их зависимостей\n",
    "G.add_node('A')  # Задача A\n",
    "G.add_node('B')  # Задача B\n",
    "G.add_node('C')  # Задача C\n",
    "G.add_node('D')  # Задача D\n",
    "\n",
    "G.add_edge('A', 'B')  # Зависимость: A -> B\n",
    "G.add_edge('A', 'C')  # Зависимость: A -> C\n",
    "G.add_edge('B', 'D')  # Зависимость: B -> D\n",
    "G.add_edge('C', 'D')  # Зависимость: C -> D\n",
    "\n",
    "# Вычисление критического пути\n",
    "critical_path = nx.algorithms.dag.dag_longest_path(G)\n",
    "\n",
    "# Вывод результата\n",
    "print(\"Критический путь:\", critical_path)"
   ]
  },
  {
   "cell_type": "code",
   "execution_count": null,
   "outputs": [],
   "source": [],
   "metadata": {
    "collapsed": false
   },
   "id": "d27b1e5be8ed0f24"
  }
 ],
 "metadata": {
  "kernelspec": {
   "display_name": "Python 3",
   "language": "python",
   "name": "python3"
  },
  "language_info": {
   "codemirror_mode": {
    "name": "ipython",
    "version": 2
   },
   "file_extension": ".py",
   "mimetype": "text/x-python",
   "name": "python",
   "nbconvert_exporter": "python",
   "pygments_lexer": "ipython2",
   "version": "2.7.6"
  }
 },
 "nbformat": 4,
 "nbformat_minor": 5
}
