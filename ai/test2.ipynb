{
 "cells": [
  {
   "cell_type": "code",
   "execution_count": 1,
   "id": "initial_id",
   "metadata": {
    "collapsed": true,
    "ExecuteTime": {
     "end_time": "2023-09-09T16:17:31.597460Z",
     "start_time": "2023-09-09T16:17:31.052346Z"
    }
   },
   "outputs": [],
   "source": [
    "import pygad\n",
    "import numpy as np\n",
    "import matplotlib.pyplot as plt\n",
    "import json\n",
    "import pandas as pd"
   ]
  },
  {
   "cell_type": "code",
   "execution_count": 2,
   "outputs": [],
   "source": [
    "# Генерация случайных данных для 100 транспортных средств\n",
    "vehicle_classes = np.random.choice(['A', 'B', 'C', 'D', 'E', 'F'], size=6)\n",
    "imo = np.random.randint(low=9000000, high=9999999, size=6)\n",
    "speeds = np.random.randint(low=0, high=20, size=6)\n",
    "start_times = np.random.randint(low=0, high=30, size=6)\n",
    "end_times = start_times + np.random.randint(low=1, high=30, size=6)\n",
    "start_points = np.random.randint(low=0, high=3, size=6)\n",
    "end_points = np.random.randint(low=0, high=4, size=6)\n",
    "\n",
    "# Создание датасета с сгенерированными данными\n",
    "vehicle_data = pd.DataFrame({\n",
    "    'class': vehicle_classes,\n",
    "    'imo': imo,\n",
    "    'speed': speeds,\n",
    "    'start_time': start_times,\n",
    "    'end_time': end_times,\n",
    "    'start_point': start_points,\n",
    "    'end_point': end_points\n",
    "})\n",
    "\n",
    "# Сохранение датасета в формате CSV\n",
    "#vehicle_data.to_csv('vehicles.csv', index=False)"
   ],
   "metadata": {
    "collapsed": false,
    "ExecuteTime": {
     "end_time": "2023-09-09T16:17:31.602400Z",
     "start_time": "2023-09-09T16:17:31.600146Z"
    }
   },
   "id": "31acf851fbec39c6"
  },
  {
   "cell_type": "code",
   "execution_count": 3,
   "outputs": [],
   "source": [
    "# Чтение датасета с информацией о транспортных средствах\n",
    "# Чтение датасета с информацией о транспортных средствах\n",
    "\"\"\"vehicle_data = pd.read_csv('vehicles.csv')\n",
    "\n",
    "# Создание словаря с информацией о скоростях, рекомендуемых временах, начальных и конечных точках транспортных средств\n",
    "vehicle_speeds = {}\n",
    "recommended_start_times = {}\n",
    "recommended_end_times = {}\n",
    "start_points = {}\n",
    "end_points = {}\n",
    "for index, row in vehicle_data.iterrows():\n",
    "    vehicle_class = row['class']\n",
    "    imo_value = row['imo']\n",
    "    speed = row['speed']\n",
    "    start_time = row['start_time']\n",
    "    end_time = row['end_time']\n",
    "    start_point = row['start_point']\n",
    "    end_point = row['end_point']\n",
    "    vehicle_speeds[vehicle_class] = speed\n",
    "    recommended_start_times[vehicle_class] = start_time\n",
    "    recommended_end_times[vehicle_class] = end_time\n",
    "    start_points[vehicle_class] = start_point\n",
    "    end_points[vehicle_class] = end_point\"\"\"\n",
    "\n",
    "vehicle_speeds = {}\n",
    "recommended_start_times = {}\n",
    "recommended_end_times = {}\n",
    "start_points = {}\n",
    "end_points = {}\n",
    "for index, row in vehicle_data.iterrows():\n",
    "    vehicle_class = row['class']\n",
    "    imo_value = row['imo']\n",
    "    speed = row['speed']\n",
    "    start_time = row['start_time']\n",
    "    end_time = row['end_time']\n",
    "    start_point = row['start_point']\n",
    "    end_point = row['end_point']\n",
    "    vehicle_speeds[vehicle_class] = speed\n",
    "    recommended_start_times[vehicle_class] = start_time\n",
    "    recommended_end_times[vehicle_class] = end_time\n",
    "    start_points[vehicle_class] = start_point\n",
    "    end_points[vehicle_class] = end_point"
   ],
   "metadata": {
    "collapsed": false,
    "ExecuteTime": {
     "end_time": "2023-09-09T16:17:31.607366Z",
     "start_time": "2023-09-09T16:17:31.604890Z"
    }
   },
   "id": "9c6b41d423bf04df"
  },
  {
   "cell_type": "code",
   "execution_count": 4,
   "outputs": [
    {
     "name": "stdout",
     "output_type": "stream",
     "text": [
      "5\n",
      "{'D': 2, 'F': 1, 'B': 2, 'C': 2, 'E': 2}\n"
     ]
    }
   ],
   "source": [
    "num_routes = len(start_points)\n",
    "eta_values = 2\n",
    "print(num_routes)\n",
    "print(start_points)"
   ],
   "metadata": {
    "collapsed": false,
    "ExecuteTime": {
     "end_time": "2023-09-09T16:17:31.612343Z",
     "start_time": "2023-09-09T16:17:31.608625Z"
    }
   },
   "id": "6ac1b8587b337f8e"
  },
  {
   "cell_type": "code",
   "execution_count": 5,
   "outputs": [],
   "source": [
    "def fitness_function(solution, solution_idx):\n",
    "    # Разделение генетической популяции на маршруты\n",
    "    routes = np.split(solution, num_routes, axis=0)\n",
    "    print(routes)\n",
    "    # Вычисление значения целевой функции для каждого маршрута\n",
    "    fitness_values = []\n",
    "    for route in routes:\n",
    "        # Добавление начальной точки в маршрут\n",
    "        print(route)\n",
    "        route = np.insert(route, 0, start_points[solution_idx])\n",
    "\n",
    "        # Вычисление значения первого критерия - суммарного отклонения от ETA\n",
    "        eta_deviations = np.abs(route - eta_values)\n",
    "        eta_deviation_sum = np.sum(eta_deviations)\n",
    "\n",
    "        # Вычисление значения второго критерия - суммарного пройденного расстояния\n",
    "        distance_sum = np.sum(route)\n",
    "\n",
    "        # Вычисление значения третьего критерия - потери скорости движения\n",
    "        speed_loss = 0\n",
    "        for i in range(1, len(route)):\n",
    "            # Определение класса транспортного средства на основе данных из датасета\n",
    "            vehicle_class = vehicle_data.loc[solution_idx, 'class']\n",
    "\n",
    "            # Проверка возможности пройти по маршруту выше классом сплоченности\n",
    "            if route[i] > route[i-1]:\n",
    "                # Проверяем наличие судна соответствующего класса в караване\n",
    "                caravan = route[:i]\n",
    "                if vehicle_class in caravan.values():\n",
    "                    continue  # Можем двигаться выше классом сплоченности\n",
    "\n",
    "            # Вычисление потери скорости на основе класса транспортного средства\n",
    "            speed = vehicle_speeds[vehicle_class]\n",
    "            distance = route[i] - route[i-1]\n",
    "            speed_loss += (1 - (speed / 100)) * distance\n",
    "\n",
    "        # Учет рекомендуемого времени начала и окончания движения\n",
    "        start_time = recommended_start_times[vehicle_class]\n",
    "        end_time = recommended_end_times[vehicle_class]\n",
    "        time_loss = 0\n",
    "\n",
    "        # Проверка, находится ли маршрут вне рекомендуемого временного интервала\n",
    "        if route[1] < start_time or route[-1] > end_time:\n",
    "            time_loss = 100  # Высокая штрафная функция для маршрутов, не соответствующих рекомендуемым временам\n",
    "\n",
    "        # Вычисление значения целевой функции\n",
    "        fitness_value = eta_deviation_sum + distance_sum + speed_loss + time_loss\n",
    "\n",
    "        # Добавление значения целевой функции в список\n",
    "        fitness_values.append(fitness_value)\n",
    "\n",
    "    # Выбор одного значения из списка, например, среднего значения\n",
    "    fitness_value = np.mean(fitness_values)\n",
    "\n",
    "    # Возвращение значения целевой функции\n",
    "    return fitness_value"
   ],
   "metadata": {
    "collapsed": false,
    "ExecuteTime": {
     "end_time": "2023-09-09T16:17:31.616760Z",
     "start_time": "2023-09-09T16:17:31.614708Z"
    }
   },
   "id": "1fcbce48b53882d4"
  },
  {
   "cell_type": "code",
   "execution_count": 6,
   "outputs": [],
   "source": [
    "# Создание экземпляра генетического алгоритма\n",
    "ga_instance = pygad.GA(\n",
    "    num_generations=50,  # Количество поколений\n",
    "    num_parents_mating=10,  # Количество родительских пар для спаривания\n",
    "    fitness_func=fitness_function,  # Функция приспособленности\n",
    "    sol_per_pop=50,\n",
    "    num_genes=num_routes,\n",
    "    mutation_type=None\n",
    ")"
   ],
   "metadata": {
    "collapsed": false,
    "ExecuteTime": {
     "end_time": "2023-09-09T16:17:31.637331Z",
     "start_time": "2023-09-09T16:17:31.617828Z"
    }
   },
   "id": "a9f2095206a8e89c"
  },
  {
   "cell_type": "code",
   "execution_count": 7,
   "outputs": [
    {
     "name": "stdout",
     "output_type": "stream",
     "text": [
      "[array([-1.57268169]), array([3.72365423]), array([-3.45811734]), array([-0.94017866]), array([-3.06785326])]\n",
      "[-1.57268169]\n"
     ]
    },
    {
     "ename": "KeyError",
     "evalue": "0",
     "output_type": "error",
     "traceback": [
      "\u001B[0;31m---------------------------------------------------------------------------\u001B[0m",
      "\u001B[0;31mKeyError\u001B[0m                                  Traceback (most recent call last)",
      "Cell \u001B[0;32mIn[7], line 2\u001B[0m\n\u001B[1;32m      1\u001B[0m \u001B[38;5;66;03m# Запуск генетического алгоритма\u001B[39;00m\n\u001B[0;32m----> 2\u001B[0m \u001B[43mga_instance\u001B[49m\u001B[38;5;241;43m.\u001B[39;49m\u001B[43mrun\u001B[49m\u001B[43m(\u001B[49m\u001B[43m)\u001B[49m\n",
      "File \u001B[0;32m~/PycharmProjects/Команда_5_Росатом/venv/lib/python3.9/site-packages/pygad/pygad.py:1548\u001B[0m, in \u001B[0;36mGA.run\u001B[0;34m(self)\u001B[0m\n\u001B[1;32m   1545\u001B[0m     generation_last_idx \u001B[38;5;241m=\u001B[39m \u001B[38;5;28mself\u001B[39m\u001B[38;5;241m.\u001B[39mnum_generations\n\u001B[1;32m   1547\u001B[0m \u001B[38;5;66;03m# Measuring the fitness of each chromosome in the population. Save the fitness in the last_generation_fitness attribute.\u001B[39;00m\n\u001B[0;32m-> 1548\u001B[0m \u001B[38;5;28mself\u001B[39m\u001B[38;5;241m.\u001B[39mlast_generation_fitness \u001B[38;5;241m=\u001B[39m \u001B[38;5;28;43mself\u001B[39;49m\u001B[38;5;241;43m.\u001B[39;49m\u001B[43mcal_pop_fitness\u001B[49m\u001B[43m(\u001B[49m\u001B[43m)\u001B[49m\n\u001B[1;32m   1550\u001B[0m best_solution, best_solution_fitness, best_match_idx \u001B[38;5;241m=\u001B[39m \u001B[38;5;28mself\u001B[39m\u001B[38;5;241m.\u001B[39mbest_solution(pop_fitness\u001B[38;5;241m=\u001B[39m\u001B[38;5;28mself\u001B[39m\u001B[38;5;241m.\u001B[39mlast_generation_fitness)\n\u001B[1;32m   1552\u001B[0m \u001B[38;5;66;03m# Appending the best solution in the initial population to the best_solutions list.\u001B[39;00m\n",
      "File \u001B[0;32m~/PycharmProjects/Команда_5_Росатом/venv/lib/python3.9/site-packages/pygad/pygad.py:1377\u001B[0m, in \u001B[0;36mGA.cal_pop_fitness\u001B[0;34m(self)\u001B[0m\n\u001B[1;32m   1374\u001B[0m \u001B[38;5;28;01melse\u001B[39;00m:\n\u001B[1;32m   1375\u001B[0m     \u001B[38;5;66;03m# Check if batch processing is used. If not, then calculate this missing fitness value.\u001B[39;00m\n\u001B[1;32m   1376\u001B[0m     \u001B[38;5;28;01mif\u001B[39;00m \u001B[38;5;28mself\u001B[39m\u001B[38;5;241m.\u001B[39mfitness_batch_size \u001B[38;5;129;01min\u001B[39;00m [\u001B[38;5;241m1\u001B[39m, \u001B[38;5;28;01mNone\u001B[39;00m]:\n\u001B[0;32m-> 1377\u001B[0m         fitness \u001B[38;5;241m=\u001B[39m \u001B[38;5;28;43mself\u001B[39;49m\u001B[38;5;241;43m.\u001B[39;49m\u001B[43mfitness_func\u001B[49m\u001B[43m(\u001B[49m\u001B[43msol\u001B[49m\u001B[43m,\u001B[49m\u001B[43m \u001B[49m\u001B[43msol_idx\u001B[49m\u001B[43m)\u001B[49m\n\u001B[1;32m   1378\u001B[0m         \u001B[38;5;28;01mif\u001B[39;00m \u001B[38;5;28mtype\u001B[39m(fitness) \u001B[38;5;129;01min\u001B[39;00m GA\u001B[38;5;241m.\u001B[39msupported_int_float_types:\n\u001B[1;32m   1379\u001B[0m             \u001B[38;5;28;01mpass\u001B[39;00m\n",
      "Cell \u001B[0;32mIn[5], line 11\u001B[0m, in \u001B[0;36mfitness_function\u001B[0;34m(solution, solution_idx)\u001B[0m\n\u001B[1;32m      9\u001B[0m \u001B[38;5;28mprint\u001B[39m(route)\n\u001B[1;32m     10\u001B[0m \u001B[38;5;28;01mtry\u001B[39;00m: \n\u001B[0;32m---> 11\u001B[0m     route \u001B[38;5;241m=\u001B[39m np\u001B[38;5;241m.\u001B[39minsert(route, \u001B[38;5;241m0\u001B[39m, \u001B[43mstart_points\u001B[49m\u001B[43m[\u001B[49m\u001B[43msolution_idx\u001B[49m\u001B[43m]\u001B[49m)\n\u001B[1;32m     12\u001B[0m \u001B[38;5;28;01mexcept\u001B[39;00m \u001B[38;5;167;01mValueError\u001B[39;00m:\n\u001B[1;32m     13\u001B[0m     \u001B[38;5;28mprint\u001B[39m(\u001B[38;5;124m\"\u001B[39m\u001B[38;5;124mOops!  That was no valid number.  Try again...\u001B[39m\u001B[38;5;124m\"\u001B[39m)\n",
      "\u001B[0;31mKeyError\u001B[0m: 0"
     ]
    }
   ],
   "source": [
    "# Запуск генетического алгоритма\n",
    "ga_instance.run()"
   ],
   "metadata": {
    "collapsed": false,
    "ExecuteTime": {
     "end_time": "2023-09-09T16:17:32.079911Z",
     "start_time": "2023-09-09T16:17:31.621041Z"
    }
   },
   "id": "15863429016b3333"
  },
  {
   "cell_type": "code",
   "execution_count": null,
   "outputs": [],
   "source": [
    "# Получение лучших решений для каждого маршрута\n",
    "best_solutions = ga_instance.best_solution()\n",
    "best_fitness = ga_instance.best_solution_fitness()\n",
    "\n",
    "print(\"Лучшее решение: \", best_solutions)\n",
    "print(\"Значение целевой функции для лучшего решения: \", best_fitness)"
   ],
   "metadata": {
    "collapsed": false,
    "ExecuteTime": {
     "start_time": "2023-09-09T16:17:32.077128Z"
    }
   },
   "id": "4dca7a6c24ab5c32"
  },
  {
   "cell_type": "code",
   "execution_count": null,
   "outputs": [],
   "source": [
    "# Визуализация результатов\n",
    "fig, ax = plt.subplots()\n",
    "\n",
    "for i in range(num_routes):\n",
    "    start_times = np.cumsum(best_solutions[i])\n",
    "    task_lengths = [task_length for task_length in best_solutions[i]]\n",
    "    ax.broken_barh([(start_times[j], task_lengths[j]) for j in range(len(start_times))], (10*i, 9))\n",
    "\n",
    "ax.set_xlabel('Время')\n",
    "ax.set_ylabel('Маршрут')\n",
    "ax.set_title('Диаграмма Ганта')\n",
    "ax.set_yticks([10*i+5 for i in range(num_routes)])\n",
    "ax.set_yticklabels([f'Маршрут {i+1}' for i in range(num_routes)])\n",
    "\n",
    "plt.show()"
   ],
   "metadata": {
    "collapsed": false,
    "ExecuteTime": {
     "start_time": "2023-09-09T16:17:32.078776Z"
    }
   },
   "id": "88c48a28b6b9e1ec"
  },
  {
   "cell_type": "code",
   "execution_count": null,
   "outputs": [],
   "source": [
    "# Формирование данных для JSON\n",
    "data = {\n",
    "    \"best_solutions\": best_solutions,\n",
    "    \"best_fitness\": best_fitness\n",
    "}\n",
    "\n",
    "# Сериализация данных в JSON-строку\n",
    "json_data = json.dumps(data)\n",
    "\n",
    "# Отправка JSON-строки\n",
    "# ..."
   ],
   "metadata": {
    "collapsed": false,
    "ExecuteTime": {
     "end_time": "2023-09-09T16:17:32.080148Z",
     "start_time": "2023-09-09T16:17:32.080042Z"
    }
   },
   "id": "9b2d71c1c9a77e"
  }
 ],
 "metadata": {
  "kernelspec": {
   "display_name": "Python 3",
   "language": "python",
   "name": "python3"
  },
  "language_info": {
   "codemirror_mode": {
    "name": "ipython",
    "version": 2
   },
   "file_extension": ".py",
   "mimetype": "text/x-python",
   "name": "python",
   "nbconvert_exporter": "python",
   "pygments_lexer": "ipython2",
   "version": "2.7.6"
  }
 },
 "nbformat": 4,
 "nbformat_minor": 5
}
